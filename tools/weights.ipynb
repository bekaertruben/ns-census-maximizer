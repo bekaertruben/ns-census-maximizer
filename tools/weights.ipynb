{
 "metadata": {
  "language_info": {
   "codemirror_mode": {
    "name": "ipython",
    "version": 3
   },
   "file_extension": ".py",
   "mimetype": "text/x-python",
   "name": "python",
   "nbconvert_exporter": "python",
   "pygments_lexer": "ipython3",
   "version": "3.9.3"
  },
  "orig_nbformat": 2,
  "kernelspec": {
   "name": "python3",
   "display_name": "Python 3.9.3 64-bit",
   "metadata": {
    "interpreter": {
     "hash": "767d51c1340bd893661ea55ea3124f6de3c7a262a8b4abca0554b478b1e2ff90"
    }
   }
  }
 },
 "nbformat": 4,
 "nbformat_minor": 2,
 "cells": [
  {
   "source": [
    "# This is the notebook used to generate `census_distribution.txt`"
   ],
   "cell_type": "markdown",
   "metadata": {}
  },
  {
   "cell_type": "code",
   "execution_count": null,
   "metadata": {},
   "outputs": [],
   "source": [
    "import nationstates as ns\n",
    "import trotterdam as t\n",
    "\n",
    "from IPython.display import clear_output\n",
    "import time\n",
    "import random\n",
    "import copy\n",
    "\n",
    "import numpy as np\n",
    "import matplotlib.pyplot as plt"
   ]
  },
  {
   "cell_type": "code",
   "execution_count": null,
   "metadata": {},
   "outputs": [],
   "source": [
    "# CONFIG\n",
    "CONTACT = \"<Nationstates demands that the User Agent contain a method of contacting the Script's owner. An email address is fine>\""
   ]
  },
  {
   "cell_type": "code",
   "execution_count": null,
   "metadata": {},
   "outputs": [],
   "source": [
    "# setup\n",
    "api = ns.Nationstates(\"Instance of https://github.com/bekaertruben/ns-census-maximizer/tools [contact: {}]\".format(CONTACT))\n",
    "world = api.world()\n",
    "\n",
    "nations = world.get_shards(\"nations\").nations.split(\",\")"
   ]
  },
  {
   "cell_type": "code",
   "execution_count": null,
   "metadata": {},
   "outputs": [],
   "source": [
    "# get census scores for 10000 random nations (this takes two hours or more, lower this number to make it go quicker)\n",
    "num = 10000\n",
    "\n",
    "all_scores = {i:np.array([]) for i in range(87)}\n",
    "\n",
    "max_bars = 100\n",
    "\n",
    "nations_to_inspect = copy.copy(nations)\n",
    "random.shuffle(nations_to_inspect)\n",
    "nations_to_inspect = nations_to_inspect[:num]\n",
    "for i in range(len(nations_to_inspect)):\n",
    "    progress = (i+1)/num\n",
    "    percent = int(1000 * progress)/10\n",
    "    bars = int(max_bars * progress)\n",
    "    clear_output()\n",
    "    print(\"{}% - [{}{}]\".format(percent, bars*\"█\", (max_bars-bars)*\" \"))\n",
    "\n",
    "    name = nations_to_inspect[i]\n",
    "    try:\n",
    "        scores = api.nation(name).get_shards(ns.Shard(\"census\", scale=list(range(87)), mode=\"score\")).census.scale\n",
    "        for scale in scores:\n",
    "            all_scores[int(scale.id)] = np.append(all_scores[int(scale.id)], [float(scale.score)])\n",
    "    except BaseException as e:\n",
    "        print(\"nation \\\"{}\\\" raised <{}>\".format(name, e))\n",
    "    time.sleep(30/45)\n",
    "print(\"DONE!\")"
   ]
  },
  {
   "cell_type": "code",
   "execution_count": null,
   "metadata": {},
   "outputs": [],
   "source": [
    "# plot a histogram for one of the scales to check whether this came out sensibly\n",
    "plt.figure(figsize=(18, 6))\n",
    "plt.hist(all_scores[0], bins=20)\n",
    "plt.show()"
   ]
  },
  {
   "cell_type": "code",
   "execution_count": null,
   "metadata": {},
   "outputs": [],
   "source": [
    "# process the data\n",
    "means = dict()\n",
    "stds = dict()\n",
    "for i in all_scores:\n",
    "    means[i] = np.mean(all_scores[i])\n",
    "    stds[i] = np.std(all_scores[i])"
   ]
  },
  {
   "cell_type": "code",
   "execution_count": null,
   "metadata": {},
   "outputs": [],
   "source": [
    "# save to file\n",
    "with open(\"census_distribution.txt\", \"w\") as file:\n",
    "    file.writelines([\"{ # id: (mean, std)\\n\"] + [\n",
    "        \"    {}: ({}, {}),\\n\".format(c_id, means[c_id], stds[c_id])\n",
    "        for c_id in range(87)\n",
    "    ] + [\"}\"])"
   ]
  }
 ]
}